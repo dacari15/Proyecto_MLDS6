{
  "nbformat": 4,
  "nbformat_minor": 0,
  "metadata": {
    "colab": {
      "provenance": []
    },
    "kernelspec": {
      "name": "python3",
      "display_name": "Python 3"
    },
    "language_info": {
      "name": "python"
    }
  },
  "cells": [
    {
      "cell_type": "code",
      "source": [
        "import os\n",
        "from IPython import get_ipython"
      ],
      "metadata": {
        "id": "ZOKMv4O5IRlS"
      },
      "execution_count": 117,
      "outputs": []
    },
    {
      "cell_type": "code",
      "execution_count": 93,
      "metadata": {
        "id": "zjVEN7rwHdBG"
      },
      "outputs": [],
      "source": [
        " # Agregue su token dentro de las comillas.\n",
        "\"\"\"\n",
        "token =\n",
        "\"\"\""
      ]
    },
    {
      "cell_type": "code",
      "source": [
        "repo_url = \"https://github.com/dacari15/Proyecto_MLDS6.git\" # Agruegue la url de su repositorio dentro de las comillas."
      ],
      "metadata": {
        "id": "DXN1vsdjHtiE"
      },
      "execution_count": 94,
      "outputs": []
    },
    {
      "cell_type": "code",
      "source": [
        "import re\n",
        "pat = re.compile(r\"(https://)(.*)\")"
      ],
      "metadata": {
        "id": "O-Su81N_IJAt"
      },
      "execution_count": 95,
      "outputs": []
    },
    {
      "cell_type": "code",
      "source": [
        "match = re.match(pat, repo_url)\n",
        "url_token = \"\".join([match.group(1), token, \"@\", match.group(2)])\n",
        "os.environ[\"GITHUB\"] = url_token"
      ],
      "metadata": {
        "id": "78g6M4nMIJ3U"
      },
      "execution_count": 96,
      "outputs": []
    },
    {
      "cell_type": "code",
      "source": [
        "%cd /content"
      ],
      "metadata": {
        "colab": {
          "base_uri": "https://localhost:8080/"
        },
        "id": "JosedE1wPnNG",
        "outputId": "2bc05778-2264-4744-fea9-2792e475789b"
      },
      "execution_count": 97,
      "outputs": [
        {
          "output_type": "stream",
          "name": "stdout",
          "text": [
            "/content\n"
          ]
        }
      ]
    },
    {
      "cell_type": "code",
      "source": [
        "!rm -rf Proyecto_MLDS6"
      ],
      "metadata": {
        "id": "7J06wYyDKVrS"
      },
      "execution_count": 98,
      "outputs": []
    },
    {
      "cell_type": "code",
      "source": [
        "!git clone $GITHUB"
      ],
      "metadata": {
        "colab": {
          "base_uri": "https://localhost:8080/"
        },
        "id": "utz5bEalKSh7",
        "outputId": "8615a249-72bc-409e-d804-802ed909c863"
      },
      "execution_count": 99,
      "outputs": [
        {
          "output_type": "stream",
          "name": "stdout",
          "text": [
            "Cloning into 'Proyecto_MLDS6'...\n",
            "remote: Enumerating objects: 154, done.\u001b[K\n",
            "remote: Counting objects:   0% (1/154)\u001b[K\rremote: Counting objects:   1% (2/154)\u001b[K\rremote: Counting objects:   2% (4/154)\u001b[K\rremote: Counting objects:   3% (5/154)\u001b[K\rremote: Counting objects:   4% (7/154)\u001b[K\rremote: Counting objects:   5% (8/154)\u001b[K\rremote: Counting objects:   6% (10/154)\u001b[K\rremote: Counting objects:   7% (11/154)\u001b[K\rremote: Counting objects:   8% (13/154)\u001b[K\rremote: Counting objects:   9% (14/154)\u001b[K\rremote: Counting objects:  10% (16/154)\u001b[K\rremote: Counting objects:  11% (17/154)\u001b[K\rremote: Counting objects:  12% (19/154)\u001b[K\rremote: Counting objects:  13% (21/154)\u001b[K\rremote: Counting objects:  14% (22/154)\u001b[K\rremote: Counting objects:  15% (24/154)\u001b[K\rremote: Counting objects:  16% (25/154)\u001b[K\rremote: Counting objects:  17% (27/154)\u001b[K\rremote: Counting objects:  18% (28/154)\u001b[K\rremote: Counting objects:  19% (30/154)\u001b[K\rremote: Counting objects:  20% (31/154)\u001b[K\rremote: Counting objects:  21% (33/154)\u001b[K\rremote: Counting objects:  22% (34/154)\u001b[K\rremote: Counting objects:  23% (36/154)\u001b[K\rremote: Counting objects:  24% (37/154)\u001b[K\rremote: Counting objects:  25% (39/154)\u001b[K\rremote: Counting objects:  26% (41/154)\u001b[K\rremote: Counting objects:  27% (42/154)\u001b[K\rremote: Counting objects:  28% (44/154)\u001b[K\rremote: Counting objects:  29% (45/154)\u001b[K\rremote: Counting objects:  30% (47/154)\u001b[K\rremote: Counting objects:  31% (48/154)\u001b[K\rremote: Counting objects:  32% (50/154)\u001b[K\rremote: Counting objects:  33% (51/154)\u001b[K\rremote: Counting objects:  34% (53/154)\u001b[K\rremote: Counting objects:  35% (54/154)\u001b[K\rremote: Counting objects:  36% (56/154)\u001b[K\rremote: Counting objects:  37% (57/154)\u001b[K\rremote: Counting objects:  38% (59/154)\u001b[K\rremote: Counting objects:  39% (61/154)\u001b[K\rremote: Counting objects:  40% (62/154)\u001b[K\rremote: Counting objects:  41% (64/154)\u001b[K\rremote: Counting objects:  42% (65/154)\u001b[K\rremote: Counting objects:  43% (67/154)\u001b[K\rremote: Counting objects:  44% (68/154)\u001b[K\rremote: Counting objects:  45% (70/154)\u001b[K\rremote: Counting objects:  46% (71/154)\u001b[K\rremote: Counting objects:  47% (73/154)\u001b[K\rremote: Counting objects:  48% (74/154)\u001b[K\rremote: Counting objects:  49% (76/154)\u001b[K\rremote: Counting objects:  50% (77/154)\u001b[K\rremote: Counting objects:  51% (79/154)\u001b[K\rremote: Counting objects:  52% (81/154)\u001b[K\rremote: Counting objects:  53% (82/154)\u001b[K\rremote: Counting objects:  54% (84/154)\u001b[K\rremote: Counting objects:  55% (85/154)\u001b[K\rremote: Counting objects:  56% (87/154)\u001b[K\rremote: Counting objects:  57% (88/154)\u001b[K\rremote: Counting objects:  58% (90/154)\u001b[K\rremote: Counting objects:  59% (91/154)\u001b[K\rremote: Counting objects:  60% (93/154)\u001b[K\rremote: Counting objects:  61% (94/154)\u001b[K\rremote: Counting objects:  62% (96/154)\u001b[K\rremote: Counting objects:  63% (98/154)\u001b[K\rremote: Counting objects:  64% (99/154)\u001b[K\rremote: Counting objects:  65% (101/154)\u001b[K\rremote: Counting objects:  66% (102/154)\u001b[K\rremote: Counting objects:  67% (104/154)\u001b[K\rremote: Counting objects:  68% (105/154)\u001b[K\rremote: Counting objects:  69% (107/154)\u001b[K\rremote: Counting objects:  70% (108/154)\u001b[K\rremote: Counting objects:  71% (110/154)\u001b[K\rremote: Counting objects:  72% (111/154)\u001b[K\rremote: Counting objects:  73% (113/154)\u001b[K\rremote: Counting objects:  74% (114/154)\u001b[K\rremote: Counting objects:  75% (116/154)\u001b[K\rremote: Counting objects:  76% (118/154)\u001b[K\rremote: Counting objects:  77% (119/154)\u001b[K\rremote: Counting objects:  78% (121/154)\u001b[K\rremote: Counting objects:  79% (122/154)\u001b[K\rremote: Counting objects:  80% (124/154)\u001b[K\rremote: Counting objects:  81% (125/154)\u001b[K\rremote: Counting objects:  82% (127/154)\u001b[K\rremote: Counting objects:  83% (128/154)\u001b[K\rremote: Counting objects:  84% (130/154)\u001b[K\rremote: Counting objects:  85% (131/154)\u001b[K\rremote: Counting objects:  86% (133/154)\u001b[K\rremote: Counting objects:  87% (134/154)\u001b[K\rremote: Counting objects:  88% (136/154)\u001b[K\rremote: Counting objects:  89% (138/154)\u001b[K\rremote: Counting objects:  90% (139/154)\u001b[K\rremote: Counting objects:  91% (141/154)\u001b[K\rremote: Counting objects:  92% (142/154)\u001b[K\rremote: Counting objects:  93% (144/154)\u001b[K\rremote: Counting objects:  94% (145/154)\u001b[K\rremote: Counting objects:  95% (147/154)\u001b[K\rremote: Counting objects:  96% (148/154)\u001b[K\rremote: Counting objects:  97% (150/154)\u001b[K\rremote: Counting objects:  98% (151/154)\u001b[K\rremote: Counting objects:  99% (153/154)\u001b[K\rremote: Counting objects: 100% (154/154)\u001b[K\rremote: Counting objects: 100% (154/154), done.\u001b[K\n",
            "remote: Compressing objects:   0% (1/127)\u001b[K\rremote: Compressing objects:   1% (2/127)\u001b[K\rremote: Compressing objects:   2% (3/127)\u001b[K\rremote: Compressing objects:   3% (4/127)\u001b[K\rremote: Compressing objects:   4% (6/127)\u001b[K\rremote: Compressing objects:   5% (7/127)\u001b[K\rremote: Compressing objects:   6% (8/127)\u001b[K\rremote: Compressing objects:   7% (9/127)\u001b[K\rremote: Compressing objects:   8% (11/127)\u001b[K\rremote: Compressing objects:   9% (12/127)\u001b[K\rremote: Compressing objects:  10% (13/127)\u001b[K\rremote: Compressing objects:  11% (14/127)\u001b[K\rremote: Compressing objects:  12% (16/127)\u001b[K\rremote: Compressing objects:  13% (17/127)\u001b[K\rremote: Compressing objects:  14% (18/127)\u001b[K\rremote: Compressing objects:  15% (20/127)\u001b[K\rremote: Compressing objects:  16% (21/127)\u001b[K\rremote: Compressing objects:  17% (22/127)\u001b[K\rremote: Compressing objects:  18% (23/127)\u001b[K\rremote: Compressing objects:  19% (25/127)\u001b[K\rremote: Compressing objects:  20% (26/127)\u001b[K\rremote: Compressing objects:  21% (27/127)\u001b[K\rremote: Compressing objects:  22% (28/127)\u001b[K\rremote: Compressing objects:  23% (30/127)\u001b[K\rremote: Compressing objects:  24% (31/127)\u001b[K\rremote: Compressing objects:  25% (32/127)\u001b[K\rremote: Compressing objects:  26% (34/127)\u001b[K\rremote: Compressing objects:  27% (35/127)\u001b[K\rremote: Compressing objects:  28% (36/127)\u001b[K\rremote: Compressing objects:  29% (37/127)\u001b[K\rremote: Compressing objects:  30% (39/127)\u001b[K\rremote: Compressing objects:  31% (40/127)\u001b[K\rremote: Compressing objects:  32% (41/127)\u001b[K\rremote: Compressing objects:  33% (42/127)\u001b[K\rremote: Compressing objects:  34% (44/127)\u001b[K\rremote: Compressing objects:  35% (45/127)\u001b[K\rremote: Compressing objects:  36% (46/127)\u001b[K\rremote: Compressing objects:  37% (47/127)\u001b[K\rremote: Compressing objects:  38% (49/127)\u001b[K\rremote: Compressing objects:  39% (50/127)\u001b[K\rremote: Compressing objects:  40% (51/127)\u001b[K\rremote: Compressing objects:  41% (53/127)\u001b[K\rremote: Compressing objects:  42% (54/127)\u001b[K\rremote: Compressing objects:  43% (55/127)\u001b[K\rremote: Compressing objects:  44% (56/127)\u001b[K\rremote: Compressing objects:  45% (58/127)\u001b[K\rremote: Compressing objects:  46% (59/127)\u001b[K\rremote: Compressing objects:  47% (60/127)\u001b[K\rremote: Compressing objects:  48% (61/127)\u001b[K\rremote: Compressing objects:  49% (63/127)\u001b[K\rremote: Compressing objects:  50% (64/127)\u001b[K\rremote: Compressing objects:  51% (65/127)\u001b[K\rremote: Compressing objects:  52% (67/127)\u001b[K\rremote: Compressing objects:  53% (68/127)\u001b[K\rremote: Compressing objects:  54% (69/127)\u001b[K\rremote: Compressing objects:  55% (70/127)\u001b[K\rremote: Compressing objects:  56% (72/127)\u001b[K\rremote: Compressing objects:  57% (73/127)\u001b[K\rremote: Compressing objects:  58% (74/127)\u001b[K\rremote: Compressing objects:  59% (75/127)\u001b[K\rremote: Compressing objects:  60% (77/127)\u001b[K\rremote: Compressing objects:  61% (78/127)\u001b[K\rremote: Compressing objects:  62% (79/127)\u001b[K\rremote: Compressing objects:  63% (81/127)\u001b[K\rremote: Compressing objects:  64% (82/127)\u001b[K\rremote: Compressing objects:  65% (83/127)\u001b[K\rremote: Compressing objects:  66% (84/127)\u001b[K\rremote: Compressing objects:  67% (86/127)\u001b[K\rremote: Compressing objects:  68% (87/127)\u001b[K\rremote: Compressing objects:  69% (88/127)\u001b[K\rremote: Compressing objects:  70% (89/127)\u001b[K\rremote: Compressing objects:  71% (91/127)\u001b[K\rremote: Compressing objects:  72% (92/127)\u001b[K\rremote: Compressing objects:  73% (93/127)\u001b[K\rremote: Compressing objects:  74% (94/127)\u001b[K\rremote: Compressing objects:  75% (96/127)\u001b[K\rremote: Compressing objects:  76% (97/127)\u001b[K\rremote: Compressing objects:  77% (98/127)\u001b[K\rremote: Compressing objects:  78% (100/127)\u001b[K\rremote: Compressing objects:  79% (101/127)\u001b[K\rremote: Compressing objects:  80% (102/127)\u001b[K\rremote: Compressing objects:  81% (103/127)\u001b[K\rremote: Compressing objects:  82% (105/127)\u001b[K\rremote: Compressing objects:  83% (106/127)\u001b[K\rremote: Compressing objects:  84% (107/127)\u001b[K\rremote: Compressing objects:  85% (108/127)\u001b[K\rremote: Compressing objects:  86% (110/127)\u001b[K\rremote: Compressing objects:  87% (111/127)\u001b[K\rremote: Compressing objects:  88% (112/127)\u001b[K\rremote: Compressing objects:  89% (114/127)\u001b[K\rremote: Compressing objects:  90% (115/127)\u001b[K\rremote: Compressing objects:  91% (116/127)\u001b[K\rremote: Compressing objects:  92% (117/127)\u001b[K\rremote: Compressing objects:  93% (119/127)\u001b[K\rremote: Compressing objects:  94% (120/127)\u001b[K\rremote: Compressing objects:  95% (121/127)\u001b[K\rremote: Compressing objects:  96% (122/127)\u001b[K\rremote: Compressing objects:  97% (124/127)\u001b[K\rremote: Compressing objects:  98% (125/127)\u001b[K\rremote: Compressing objects:  99% (126/127)\u001b[K\rremote: Compressing objects: 100% (127/127)\u001b[K\rremote: Compressing objects: 100% (127/127), done.\u001b[K\n",
            "Receiving objects:   0% (1/154)\rReceiving objects:   1% (2/154)\rReceiving objects:   2% (4/154)\rReceiving objects:   3% (5/154)\rReceiving objects:   4% (7/154)\rReceiving objects:   5% (8/154)\rReceiving objects:   6% (10/154)\rReceiving objects:   7% (11/154)\rReceiving objects:   8% (13/154)\rReceiving objects:   9% (14/154)\rReceiving objects:  10% (16/154)\rReceiving objects:  11% (17/154)\rReceiving objects:  12% (19/154)\rReceiving objects:  13% (21/154)\rReceiving objects:  14% (22/154)\rReceiving objects:  15% (24/154)\rReceiving objects:  16% (25/154)\rReceiving objects:  17% (27/154)\rReceiving objects:  18% (28/154)\rReceiving objects:  19% (30/154)\rReceiving objects:  20% (31/154)\rReceiving objects:  21% (33/154)\rReceiving objects:  22% (34/154)\rReceiving objects:  23% (36/154)\rReceiving objects:  24% (37/154)\rReceiving objects:  25% (39/154)\rReceiving objects:  26% (41/154)\rReceiving objects:  27% (42/154)\rReceiving objects:  28% (44/154)\rReceiving objects:  29% (45/154)\rReceiving objects:  30% (47/154)\rReceiving objects:  31% (48/154)\rReceiving objects:  32% (50/154)\rReceiving objects:  33% (51/154)\rReceiving objects:  34% (53/154)\rReceiving objects:  35% (54/154)\rReceiving objects:  36% (56/154)\rReceiving objects:  37% (57/154)\rReceiving objects:  38% (59/154)\rReceiving objects:  39% (61/154)\rReceiving objects:  40% (62/154)\rReceiving objects:  41% (64/154)\rReceiving objects:  42% (65/154)\rReceiving objects:  43% (67/154)\rReceiving objects:  44% (68/154)\rReceiving objects:  45% (70/154)\rReceiving objects:  46% (71/154)\rremote: Total 154 (delta 48), reused 0 (delta 0), pack-reused 0 (from 0)\u001b[K\n",
            "Receiving objects:  47% (73/154)\rReceiving objects:  48% (74/154)\rReceiving objects:  49% (76/154)\rReceiving objects:  50% (77/154)\rReceiving objects:  51% (79/154)\rReceiving objects:  52% (81/154)\rReceiving objects:  53% (82/154)\rReceiving objects:  54% (84/154)\rReceiving objects:  55% (85/154)\rReceiving objects:  56% (87/154)\rReceiving objects:  57% (88/154)\rReceiving objects:  58% (90/154)\rReceiving objects:  59% (91/154)\rReceiving objects:  60% (93/154)\rReceiving objects:  61% (94/154)\rReceiving objects:  62% (96/154)\rReceiving objects:  63% (98/154)\rReceiving objects:  64% (99/154)\rReceiving objects:  65% (101/154)\rReceiving objects:  66% (102/154)\rReceiving objects:  67% (104/154)\rReceiving objects:  68% (105/154)\rReceiving objects:  69% (107/154)\rReceiving objects:  70% (108/154)\rReceiving objects:  71% (110/154)\rReceiving objects:  72% (111/154)\rReceiving objects:  73% (113/154)\rReceiving objects:  74% (114/154)\rReceiving objects:  75% (116/154)\rReceiving objects:  76% (118/154)\rReceiving objects:  77% (119/154)\rReceiving objects:  78% (121/154)\rReceiving objects:  79% (122/154)\rReceiving objects:  80% (124/154)\rReceiving objects:  81% (125/154)\rReceiving objects:  82% (127/154)\rReceiving objects:  83% (128/154)\rReceiving objects:  84% (130/154)\rReceiving objects:  85% (131/154)\rReceiving objects:  86% (133/154)\rReceiving objects:  87% (134/154)\rReceiving objects:  88% (136/154)\rReceiving objects:  89% (138/154)\rReceiving objects:  90% (139/154)\rReceiving objects:  91% (141/154)\rReceiving objects:  92% (142/154)\rReceiving objects:  93% (144/154)\rReceiving objects:  94% (145/154)\rReceiving objects:  95% (147/154)\rReceiving objects:  96% (148/154)\rReceiving objects:  97% (150/154)\rReceiving objects:  98% (151/154)\rReceiving objects:  99% (153/154)\rReceiving objects: 100% (154/154)\rReceiving objects: 100% (154/154), 61.27 KiB | 6.13 MiB/s, done.\n",
            "Resolving deltas:   0% (0/48)\rResolving deltas:   2% (1/48)\rResolving deltas:   4% (2/48)\rResolving deltas:   6% (3/48)\rResolving deltas:   8% (4/48)\rResolving deltas:  10% (5/48)\rResolving deltas:  12% (6/48)\rResolving deltas:  14% (7/48)\rResolving deltas:  16% (8/48)\rResolving deltas:  18% (9/48)\rResolving deltas:  20% (10/48)\rResolving deltas:  22% (11/48)\rResolving deltas:  25% (12/48)\rResolving deltas:  27% (13/48)\rResolving deltas:  29% (14/48)\rResolving deltas:  31% (15/48)\rResolving deltas:  33% (16/48)\rResolving deltas:  35% (17/48)\rResolving deltas:  37% (18/48)\rResolving deltas:  39% (19/48)\rResolving deltas:  41% (20/48)\rResolving deltas:  43% (21/48)\rResolving deltas:  45% (22/48)\rResolving deltas:  47% (23/48)\rResolving deltas:  50% (24/48)\rResolving deltas:  52% (25/48)\rResolving deltas:  54% (26/48)\rResolving deltas:  56% (27/48)\rResolving deltas:  58% (28/48)\rResolving deltas:  60% (29/48)\rResolving deltas:  62% (30/48)\rResolving deltas:  64% (31/48)\rResolving deltas:  66% (32/48)\rResolving deltas:  68% (33/48)\rResolving deltas:  70% (34/48)\rResolving deltas:  72% (35/48)\rResolving deltas:  75% (36/48)\rResolving deltas:  77% (37/48)\rResolving deltas:  79% (38/48)\rResolving deltas:  81% (39/48)\rResolving deltas:  83% (40/48)\rResolving deltas:  85% (41/48)\rResolving deltas:  87% (42/48)\rResolving deltas:  89% (43/48)\rResolving deltas:  91% (44/48)\rResolving deltas:  93% (45/48)\rResolving deltas:  95% (46/48)\rResolving deltas:  97% (47/48)\rResolving deltas: 100% (48/48)\rResolving deltas: 100% (48/48), done.\n"
          ]
        }
      ]
    },
    {
      "cell_type": "code",
      "source": [
        "!ls"
      ],
      "metadata": {
        "colab": {
          "base_uri": "https://localhost:8080/"
        },
        "id": "wlz-G2FDKcNZ",
        "outputId": "1fbd9879-6711-405d-a6f7-ead46726a14f"
      },
      "execution_count": 100,
      "outputs": [
        {
          "output_type": "stream",
          "name": "stdout",
          "text": [
            "drive  Proyecto_MLDS6  sample_data\n"
          ]
        }
      ]
    },
    {
      "cell_type": "code",
      "source": [
        "%cd Proyecto_MLDS6"
      ],
      "metadata": {
        "colab": {
          "base_uri": "https://localhost:8080/"
        },
        "id": "W5F40628KxLO",
        "outputId": "144f97b3-ba50-46a0-b164-d1508a7ad656"
      },
      "execution_count": 101,
      "outputs": [
        {
          "output_type": "stream",
          "name": "stdout",
          "text": [
            "/content/Proyecto_MLDS6\n"
          ]
        }
      ]
    },
    {
      "cell_type": "code",
      "source": [
        "!ls"
      ],
      "metadata": {
        "colab": {
          "base_uri": "https://localhost:8080/"
        },
        "id": "-7s4NnrEK0E4",
        "outputId": "47fb0505-ae44-4257-a504-8413594577fe"
      },
      "execution_count": 102,
      "outputs": [
        {
          "output_type": "stream",
          "name": "stdout",
          "text": [
            "docs  pyproject.toml  README.md  scripts  src\n"
          ]
        }
      ]
    },
    {
      "cell_type": "code",
      "source": [
        "#Verificar que ramas tiene nuestro repositorio\n",
        "!git ls-remote --heads origin\n"
      ],
      "metadata": {
        "colab": {
          "base_uri": "https://localhost:8080/"
        },
        "id": "K6LfQjFqLmp5",
        "outputId": "e43a22fa-3ea1-48ec-d4a8-428e8a8fcfd9"
      },
      "execution_count": 103,
      "outputs": [
        {
          "output_type": "stream",
          "name": "stdout",
          "text": [
            "5b359e8844bb440cb6f467f8015a819380d2e735\trefs/heads/main\n"
          ]
        }
      ]
    },
    {
      "cell_type": "code",
      "source": [
        "# descargar los cambios más recientes de Github\n",
        "!git pull origin main"
      ],
      "metadata": {
        "colab": {
          "base_uri": "https://localhost:8080/"
        },
        "id": "Yfc_WI5TKvis",
        "outputId": "e7821b6f-8801-41bb-b286-a11043ad688d"
      },
      "execution_count": 104,
      "outputs": [
        {
          "output_type": "stream",
          "name": "stdout",
          "text": [
            "From https://github.com/dacari15/Proyecto_MLDS6\n",
            " * branch            main       -> FETCH_HEAD\n",
            "Already up to date.\n"
          ]
        }
      ]
    },
    {
      "cell_type": "code",
      "source": [
        "#Cambia a rama principal\n",
        "!git checkout main"
      ],
      "metadata": {
        "colab": {
          "base_uri": "https://localhost:8080/"
        },
        "id": "ce2z3lCeL_VI",
        "outputId": "11c54bbd-01e8-4a39-91b3-4566c1c882b1"
      },
      "execution_count": 105,
      "outputs": [
        {
          "output_type": "stream",
          "name": "stdout",
          "text": [
            "Already on 'main'\n",
            "Your branch is up to date with 'origin/main'.\n"
          ]
        }
      ]
    },
    {
      "cell_type": "code",
      "source": [
        "#rama actual\n",
        "!git branch"
      ],
      "metadata": {
        "colab": {
          "base_uri": "https://localhost:8080/"
        },
        "id": "XGfmqK5RLzfv",
        "outputId": "50f93ef5-6f71-4984-ebf0-3167c7b8b7ca"
      },
      "execution_count": 106,
      "outputs": [
        {
          "output_type": "stream",
          "name": "stdout",
          "text": [
            "* \u001b[32mmain\u001b[m\n"
          ]
        }
      ]
    },
    {
      "cell_type": "code",
      "source": [
        "!cp /content/drive/MyDrive/Colab\\ Notebooks/MLDS_6_Metodologias_agiles_ML/Proyecto/Conexion_repositorio.ipynb /content/Proyecto_MLDS6/scripts/\n"
      ],
      "metadata": {
        "id": "Qy24aP-_OdUu"
      },
      "execution_count": 109,
      "outputs": []
    },
    {
      "cell_type": "code",
      "source": [
        "!git config --global user.name \"Dacari\"\n",
        "!git config --global user.email \"daniel.cardozoa@gmail.com\""
      ],
      "metadata": {
        "id": "PV3jFryVQSNE"
      },
      "execution_count": 118,
      "outputs": []
    },
    {
      "cell_type": "code",
      "source": [
        "!git add .\n",
        "!git commit -m \"Elimina credencial accidental\""
      ],
      "metadata": {
        "colab": {
          "base_uri": "https://localhost:8080/"
        },
        "id": "EqWC6ZnsVApM",
        "outputId": "0481ddbf-33f3-4df4-d41c-7c2137dc9729"
      },
      "execution_count": 119,
      "outputs": [
        {
          "output_type": "stream",
          "name": "stdout",
          "text": [
            "On branch main\n",
            "Your branch is ahead of 'origin/main' by 1 commit.\n",
            "  (use \"git push\" to publish your local commits)\n",
            "\n",
            "nothing to commit, working tree clean\n"
          ]
        }
      ]
    },
    {
      "cell_type": "code",
      "source": [
        "!git reset HEAD~1  # Revierte el commit anterior"
      ],
      "metadata": {
        "id": "CxIC24HLVLGj"
      },
      "execution_count": 120,
      "outputs": []
    },
    {
      "cell_type": "code",
      "source": [
        "!git add scripts/Conexion_repositorio.ipynb\n",
        "!git commit -m \"Agrego Notebook desde Colab\"\n",
        "!git push origin main"
      ],
      "metadata": {
        "colab": {
          "base_uri": "https://localhost:8080/"
        },
        "id": "317SOcY0QYcO",
        "outputId": "5f12322f-0b4c-4508-93b0-7678210983de"
      },
      "execution_count": 121,
      "outputs": [
        {
          "output_type": "stream",
          "name": "stdout",
          "text": [
            "[main 093035c] Agrego Notebook desde Colab\n",
            " 1 file changed, 1 insertion(+)\n",
            " create mode 100644 scripts/Conexion_repositorio.ipynb\n",
            "Enumerating objects: 6, done.\n",
            "Counting objects: 100% (6/6), done.\n",
            "Delta compression using up to 2 threads\n",
            "Compressing objects: 100% (4/4), done.\n",
            "Writing objects: 100% (4/4), 3.59 KiB | 3.59 MiB/s, done.\n",
            "Total 4 (delta 2), reused 0 (delta 0), pack-reused 0\n",
            "remote: Resolving deltas: 100% (2/2), completed with 2 local objects.\u001b[K\n",
            "remote: \u001b[1;31merror\u001b[m: GH013: Repository rule violations found for refs/heads/main.\u001b[K\n",
            "remote: \n",
            "remote: - GITHUB PUSH PROTECTION\u001b[K\n",
            "remote:   —————————————————————————————————————————\u001b[K\n",
            "remote:     Resolve the following violations before pushing again\u001b[K\n",
            "remote: \n",
            "remote:     - Push cannot contain secrets\u001b[K\n",
            "remote: \n",
            "remote:     \u001b[K\n",
            "remote:      (?) Learn how to resolve a blocked push\u001b[K\n",
            "remote:      https://docs.github.com/code-security/secret-scanning/working-with-secret-scanning-and-push-protection/working-with-push-protection-from-the-command-line#resolving-a-blocked-push\u001b[K\n",
            "remote:     \u001b[K\n",
            "remote:     \u001b[K\n",
            "remote:       —— GitHub Personal Access Token ——————————————————————\u001b[K\n",
            "remote:        locations:\u001b[K\n",
            "remote:          - commit: 093035c8dbfff35a2f1d7d612425b2ebcbe73d8f\u001b[K\n",
            "remote:            path: scripts/Conexion_repositorio.ipynb:1\u001b[K\n",
            "remote:     \u001b[K\n",
            "remote:        (?) To push, remove secret from commit(s) or follow this URL to allow the secret.\u001b[K\n",
            "remote:        https://github.com/dacari15/Proyecto_MLDS6/security/secret-scanning/unblock-secret/2zOHkgdR6QruCW9ONpf10pkyFHX\u001b[K\n",
            "remote:     \u001b[K\n",
            "remote: \n",
            "remote: \n",
            "To https://github.com/dacari15/Proyecto_MLDS6.git\n",
            " \u001b[31m! [remote rejected]\u001b[m main -> main (push declined due to repository rule violations)\n",
            "\u001b[31merror: failed to push some refs to 'https://github.com/dacari15/Proyecto_MLDS6.git'\n",
            "\u001b[m"
          ]
        }
      ]
    }
  ]
}